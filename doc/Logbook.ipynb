{
 "metadata": {
  "name": "Logbook"
 },
 "nbformat": 3,
 "nbformat_minor": 0,
 "worksheets": [
  {
   "cells": [
    {
     "cell_type": "markdown",
     "metadata": {},
     "source": [
      "# ISFIND NOTEBOOK\n",
      "\n",
      "# 2014 05 20\n",
      "\n",
      "### Input Data\n",
      "\n",
      "* Paired fastq.gz file (an artificial dataset can be generated using [ISIS](https://github.com/a-slide/Isis)\n",
      "* Reference genome of virus and host DNA in fasta format\n",
      "* Annotation files of host reference genome to locate features such as genes, CpG, active chromatine... (Bed format?)\n",
      "* Configuration file containing all algorithm parameters\n",
      "* output name use as a prefix for output data\n",
      "\n",
      "### Required Output (for biologists...)\n",
      "\n",
      "* After a de *novo* reconstruction of junctions from chimeric pairs and reads a report containing the characteristics of each junction and the number of reads in support of its exxistence will be generated\n",
      "\n",
      "* To visualize junctions a fasta reference of reconstructed will be generated and BAM/BAI/bedGraph file containing supported reads will also be generated \n",
      "\n",
      "* In addition, BAM, BAM index and BedGraph for the following categories of sequences\n",
      "    * Unmapped sequences (BAM only)\n",
      "    * Both mate of a pair in virus genome\n",
      "    * Both mate of a pair in host genome\n",
      "    * Pairs ovelapping true junctions\n",
      "    * Pairs corresponding to NGS prep artifacts (not a true junction)\n",
      "\n",
      "* A circos plot of insertion distribution in host genome will be created with Circos\n",
      "\n",
      "* Using host genome annotation feature, the enrichment of junction nears specific feature will be summurize in a report (CpG, Gene, heterochromatin...)\n",
      "\n",
      "### Specificity of the analysis\n",
      "\n",
      "1. Extract virus/host genome junctions in pair end sequencing data : Junction could be inside a read (chimeric read) or between the 2 mate of a pair (chimeric pairs)\n",
      "2. Bad quality sequences may result in unmapped reads or false positive\n",
      "3. A large number of sequence may result in extensive calculation time   \n",
      "4. Homology between virus and fragment of host genome may result in false positive junctions.\n",
      "5. Filter out false junctions created during NGS library preparation\n",
      "\n",
      "\n",
      "### Suggested solutions\n",
      "\n",
      "1. Map the dataset against a fused reference containg both virus and host genome with a BWT based aligner. The aligner need to be able to detect and report reads party aligned on 2 reference2. The SAM result can be subsequently pardes to extract chimeric reads. \n",
      "2. To avoid a negative impact of bad quality and unrelated sequence, a primary facultative step including quality and adapter trimming will be implemented\n",
      "3. If possible, heavy calculating steps will be parallelize with either CPU or GPU distribution. Bowtie2, BWA, BWA_PSSM and BALSA will be benchmarked side by side to compare precision and execution time with a artificial dataset generated with [ISIS](https://github.com/a-slide/Isis).\n",
      "4. A facultative step of homology masking in host genome will be implemented using results of a virus genome blast against the host genome. We will compared the precision with or without this step.\n",
      "5. From all chimeric reads and pair a *de novo* assembly to reconstruct junctions will performed. True junctions will be defined by selecting junctions supported by either a least a fixed count (ex = 5) or above a dynamic background established thanks to a biological control (non infected animal)."
     ]
    },
    {
     "cell_type": "markdown",
     "metadata": {},
     "source": [
      "# 2014 05 21\n",
      "\n",
      "###\u00a0Initial design proposed for IsFinder\n",
      "\n",
      "![Design](files/img/Initial_design.svg)"
     ]
    },
    {
     "cell_type": "markdown",
     "metadata": {},
     "source": [
      "## Exploration of Blast integration in biopython = Drafting function for CoordHits\n",
      "\n",
      "NCBIWWW module = BLAST over the Internet"
     ]
    },
    {
     "cell_type": "code",
     "collapsed": false,
     "input": [
      "from Bio.Blast.NCBIWWW import qblast\n",
      "qblast('blastn', 'nr', 'ATATCCGTAGTATTTATATGCGCGTAGCTCGCTGCTTATTATCGCTGATCTC')\n",
      "# Dos not work in the lab due to the proxy server..."
     ],
     "language": "python",
     "metadata": {},
     "outputs": []
    },
    {
     "cell_type": "markdown",
     "metadata": {},
     "source": [
      "In all cases this online requesting tool is not suitable for IsFind pipeline. Blast need to be run locally with a local dadabase consisting only of host genomic DNA. For this we can use the NCBI BLASTX wrapper from the Bio.Blast.Application"
     ]
    },
    {
     "cell_type": "code",
     "collapsed": false,
     "input": [
      "from Bio.Blast.Applications import NcbiblastxCommandline as blast\n",
      "help(blast)"
     ],
     "language": "python",
     "metadata": {},
     "outputs": []
    },
    {
     "cell_type": "markdown",
     "metadata": {},
     "source": [
      "A blast database had to be prepared before using blast\n",
      "\n",
      "Test of makeblast in bash shell.\n",
      "\n",
      "call or check call had to be used to launch command line in the shell\n",
      "check call is better since it raise a CalledProcessError in case of failure"
     ]
    },
    {
     "cell_type": "code",
     "collapsed": false,
     "input": [
      "# command line with an error\n",
      "from subprocess import check_call\n",
      "check_call((\"makeblastdb -in multi.fa -dbtype nucl -input_type fast\"), shell=True)"
     ],
     "language": "python",
     "metadata": {},
     "outputs": []
    },
    {
     "cell_type": "code",
     "collapsed": false,
     "input": [
      "# command line without error\n",
      "check_call((\"makeblastdb -in multi.fa -dbtype nucl -input_type fasta\"), shell=True)"
     ],
     "language": "python",
     "metadata": {},
     "outputs": []
    },
    {
     "cell_type": "markdown",
     "metadata": {},
     "source": [
      "### Command line execution function"
     ]
    },
    {
     "cell_type": "code",
     "collapsed": false,
     "input": [
      "from subprocess import check_call, CalledProcessError\n",
      "\n",
      "def command_bool(command):\n",
      "    \"\"\" Generic function to execute command lines return true or false\n",
      "    \"\"\"\n",
      "    try:\n",
      "        print (command)\n",
      "        check_call((command), shell=True)\n",
      "        print (\"Success\")\n",
      "    except (OSError, CalledProcessError) as E:\n",
      "        print (E)\n",
      "        exit (0)\n",
      "\n",
      "#Definition of the reference and construction of the command text line\n",
      "reference = \"multi.fa\"\n",
      "command = \"makeblastdb -in {0} -dbtype nucl -input_type fasta\".format(reference)\n",
      "\n",
      "# Call of command_line\n",
      "command_bool(command)\n",
      "            "
     ],
     "language": "python",
     "metadata": {},
     "outputs": []
    },
    {
     "cell_type": "markdown",
     "metadata": {},
     "source": [
      "Blastn using biopython parser = not much informative and can be easily done without"
     ]
    },
    {
     "cell_type": "code",
     "collapsed": false,
     "input": [
      "from Bio.Blast.Applications import NcbiblastnCommandline as blastn\n",
      "\n",
      "command = blastn(query=\"frag.fa\", db=\"multi.fa\", evalue=0.001, outfmt=1, out=\"test.xml\")\n",
      "print (command)\n",
      "\n",
      "stdout, stderr = command()\n",
      "print (stdout)"
     ],
     "language": "python",
     "metadata": {},
     "outputs": []
    },
    {
     "cell_type": "markdown",
     "metadata": {},
     "source": [
      "Using my command_bool functions"
     ]
    },
    {
     "cell_type": "code",
     "collapsed": false,
     "input": [
      "query = \"frag.fa\"\n",
      "db = \"multi.fa\"\n",
      "command = \"blastn -outfmt '6 sseqid sstart send' -query {0} -db {1} -evalue 0.001\".format(query, db)\n",
      "\n",
      "# Call of command_line\n",
      "print (command_bool(command))"
     ],
     "language": "python",
     "metadata": {},
     "outputs": []
    },
    {
     "cell_type": "markdown",
     "metadata": {},
     "source": [
      "Call or check_call are not able to return the command line return value. Instead Popen should be used for this"
     ]
    },
    {
     "cell_type": "code",
     "collapsed": false,
     "input": [
      "from subprocess import Popen, PIPE\n",
      "\n",
      "def command_return(command):\n",
      "    \"\"\" Generic function to execute command lines return true or false\n",
      "    \"\"\"\n",
      "    try:\n",
      "        print (command)\n",
      "        return Popen(command, shell=True, stdout=PIPE).stdout.read()\n",
      "    except (OSError, ValueError) as E:\n",
      "        print (E)\n",
      "        exit (0)"
     ],
     "language": "python",
     "metadata": {},
     "outputs": []
    },
    {
     "cell_type": "code",
     "collapsed": false,
     "input": [
      "query = \"frag.fa\"\n",
      "db = \"multi.fa\"\n",
      "command = \"blastn -outfmt '6 sseqid sstart send' -query {0} -db {1} -evalue 0.001\".format(query, db)\n",
      "\n",
      "# Call of command_line\n",
      "command_return(command)"
     ],
     "language": "python",
     "metadata": {},
     "outputs": []
    },
    {
     "cell_type": "markdown",
     "metadata": {},
     "source": [
      "It work and return a list of string with each string composed of the subject ref name followed by the start and end of the blast hit. Now Let's build fonctions to parse this results and store it in a dictionnary.\n",
      "\n",
      "# 2014 05 22\n",
      "\n",
      "### Split lines from a raw blast CSV output"
     ]
    },
    {
     "cell_type": "code",
     "collapsed": false,
     "input": [
      "def split_blast_lines (command):\n",
      "    return [i for i in command_return(command).splitlines()]\n",
      "        \n",
      "split_blast(\"blastn -outfmt '6 sseqid sstart send' -query frag.fa -db multi.fa -evalue 0.001\")"
     ],
     "language": "python",
     "metadata": {},
     "outputs": []
    },
    {
     "cell_type": "markdown",
     "metadata": {},
     "source": [
      "### List Version of blast hits results"
     ]
    },
    {
     "cell_type": "code",
     "collapsed": false,
     "input": [
      "def list_blast (command):\n",
      "    return [i.split(\"\\t\") for i in split_blast_lines (command)]\n",
      "\n",
      "list_blast(\"blastn -outfmt '6 sseqid sstart send' -query frag.fa -db multi.fa -evalue 0.001\")"
     ],
     "language": "python",
     "metadata": {},
     "outputs": []
    },
    {
     "cell_type": "markdown",
     "metadata": {},
     "source": [
      "### Dict Version of blast hits results (with additional str to int conversion of start and end)"
     ]
    },
    {
     "cell_type": "code",
     "collapsed": false,
     "input": [
      "def dict_blast (command):\n",
      "    d = {}\n",
      "    for ref, start, end in list_blast(command):\n",
      "        if ref in d:\n",
      "            d[ref].append([int(start), int(end)])\n",
      "        else:\n",
      "            d[ref] = [[int(start), int(end)]]\n",
      "    return d\n",
      "\n",
      "dict_blast(\"blastn -outfmt '6 sseqid sstart send' -query frag.fa -db multi.fa -evalue 0.001\")"
     ],
     "language": "python",
     "metadata": {},
     "outputs": []
    },
    {
     "cell_type": "markdown",
     "metadata": {},
     "source": [
      "### Summary of functions for CoordHits\n",
      "\n"
     ]
    },
    {
     "cell_type": "code",
     "collapsed": false,
     "input": [
      "from subprocess import check_call, CalledProcessError, Popen, PIPE\n",
      "\n",
      "def command_return(command):\n",
      "    try:\n",
      "        return (Popen(command, shell=True, stdout=PIPE).stdout.read())\n",
      "    except (OSError, ValueError) as E:\n",
      "        print (E)\n",
      "        exit (0)    \n",
      "\n",
      "def split_blast_lines (command):\n",
      "    return [i for i in command_return(command).splitlines()]\n",
      "\n",
      "def list_blast (command):\n",
      "    return [i.split(\"\\t\") for i in split_blast_lines (command)]\n",
      "\n",
      "def dict_blast (command):\n",
      "    d = {}\n",
      "    for ref, start, end in list_blast(command):\n",
      "        if ref in d:\n",
      "            d[ref].append([int(start), int(end)])\n",
      "        else:\n",
      "            d[ref] = [[int(start), int(end)]]\n",
      "    return d\n",
      "\n",
      "        \n",
      "#Definition of the reference and construction of the command text line\n",
      "\n",
      "query = \"../data/AAV_RSV_GFP.fa\"\n",
      "subject = \"../data/mm10.fa\"\n",
      "\n",
      "cmd = \"makeblastdb -in {0} -dbtype nucl -input_type fasta\".format(subject)\n",
      "print (\"Creating subject database\") \n",
      "print(command_return(cmd))\n",
      "\n",
      "print (\"Blast {0} against {1} database\".format(query, subject))\n",
      "cmd = \"blastn -task -outfmt '6 sseqid sstart send' -query {0} -db {1} -evalue 0.1\".format(query, subject)\n",
      "dict_blast(cmd)"
     ],
     "language": "python",
     "metadata": {},
     "outputs": [
      {
       "output_type": "stream",
       "stream": "stdout",
       "text": [
        "Creating subject database\n",
        "\n",
        "\n",
        "Building a new DB, current time: 05/22/2014 12:32:44\n",
        "New DB name:   ../data/mm10.fa\n",
        "New DB title:  ../data/mm10.fa\n",
        "Sequence type: Nucleotide\n",
        "Keep Linkouts: T\n",
        "Keep MBits: T\n",
        "Maximum file size: 1000000000B\n",
        "Adding sequences from FASTA; added 66 sequences in 33.1801 seconds.\n"
       ]
      },
      {
       "output_type": "stream",
       "stream": "stdout",
       "text": [
        "\n",
        "Blast ../data/AAV_RSV_GFP.fa against ../data/mm10.fa database\n"
       ]
      },
      {
       "output_type": "pyout",
       "prompt_number": 6,
       "text": [
        "{'chr12': [[115158736, 115158705],\n",
        "  [115208428, 115208397],\n",
        "  [115372318, 115372287],\n",
        "  [115461332, 115461301],\n",
        "  [115758317, 115758286],\n",
        "  [115802981, 115802950]]}"
       ]
      }
     ],
     "prompt_number": 6
    },
    {
     "cell_type": "markdown",
     "metadata": {},
     "source": [
      "It works with the whole mouse genome versus an AAV genome. It is really fast even taking into account database building (> 1 min). However Blast option needs to be optimize since only few hits are found only in chr12. The blast User Manuel may help to determine better parameters [USER MANUAL](http://www.ncbi.nlm.nih.gov.gate2.inist.fr/books/NBK1763/?report=reader)"
     ]
    },
    {
     "cell_type": "markdown",
     "metadata": {},
     "source": [
      "## Using hit coordinates to clean host ref from Blast results Draft of Ref Curator class"
     ]
    },
    {
     "cell_type": "code",
     "collapsed": false,
     "input": [],
     "language": "python",
     "metadata": {},
     "outputs": []
    }
   ],
   "metadata": {}
  }
 ]
}